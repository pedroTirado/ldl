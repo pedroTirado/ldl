{
 "cells": [
  {
   "cell_type": "code",
   "execution_count": 2,
   "id": "fd00b4bc-e641-4fa7-8ba6-3f9c825dd5a3",
   "metadata": {},
   "outputs": [],
   "source": [
    "# TensorFlow V.2.6.0\n",
    "import numpy as np\n",
    "\n",
    "# init code for XOR learning example\n",
    "np.random.seed(3) # to make repeatable\n",
    "LEARNING_RATE = 0.1\n",
    "index_list = [0,1,2,3] # used to randomize order\n",
    "\n",
    "# define training examples\n",
    "x_train = [np.array([1.0,-1.0,-1.0]),\n",
    "          np.array([1.0,-1.0,1.0]),\n",
    "          np.array([1.0,1.0,-1.0]),\n",
    "          np.array([1.0,1.0,1.0])]\n",
    "\n",
    "y_train = [0.0,1.0,1.0,0.0] # output (ground truth)"
   ]
  },
  {
   "cell_type": "code",
   "execution_count": 3,
   "id": "acb1919f-d1d2-44c5-8099-91fd08b81ce3",
   "metadata": {},
   "outputs": [],
   "source": [
    "# variables for tracking neuron state\n",
    "def neuron_w(input_count):\n",
    "    \n",
    "    weights = np.zeros(input_count+1) # sets all weights to zero (including bias weight)\n",
    "    \n",
    "    # break symmetry to prevent all neurons experiencing same weight adjustments\n",
    "    for i in range(1, (input_count+1)):\n",
    "        weights[i] = np.random.uniform(-1.0,1.0) # init. input weights to rand. numbers btwn -1 & 1\n",
    "    \n",
    "    return weights\n",
    "\n",
    "n_w = [neuron_w(2), neuron_w(2), neuron_w(2)] # weights\n",
    "\n",
    "n_y = [0,0,0] # network output\n",
    "\n",
    "n_error = [0,0,0] # error term"
   ]
  },
  {
   "cell_type": "code",
   "execution_count": 6,
   "id": "5763af99-acac-4f9d-a110-0d175c931466",
   "metadata": {},
   "outputs": [],
   "source": [
    "# backprop helper functions\n",
    "def show_learning():\n",
    "    print('Current weights:')\n",
    "    for i, w in enumerate(n_w):\n",
    "        print('neuron ',i,': w0 =','%5.2f' % w[0],\n",
    "             ', w1 =', '%5.2f' % w[1],', w2 =',\n",
    "             '%5.2f' % w[2])\n",
    "    print('-------------')\n",
    "        \n",
    "def forward_pass(x):\n",
    "    global n_y\n",
    "    n_y[0] = np.tanh(np.dot(n_w[0], x)) # neuron 0\n",
    "    n_y[1] = np.tanh(np.dot(n_w[1], x)) # neuron 1\n",
    "    n2_inputs = np.array([1.0,n_y[0],n_y[1]]) # 1.0 is bias\n",
    "    z2 = np.dot(n_w[2], n2_inputs)\n",
    "    n_y[2] = 1.0 / (1.0 + np.exp(-z2))\n",
    "    \n",
    "def backward_pass(y_truth):\n",
    "    global n_error\n",
    "    error_prime = -(y_truth - n_y[2]) # derivative of loss-func\n",
    "    derivative = n_y[2] * (1.0 - n_y[2]) # logistic derivative\n",
    "    n_error[2] = error_prime * derivative\n",
    "    derivative = 1.0 - n_y[0]**2 # tanh derivative\n",
    "    n_error[0] = n_w[2][1] * n_error[2] * derivative\n",
    "    derivative = 1.0 - n_y[1]**2 # tanh derivative\n",
    "    n_error[1] = n_w[2][2] * n_error[2] * derivative\n",
    "\n",
    "def adjust_weights(x):\n",
    "    global n_w\n",
    "    n_w[0] -= (x * LEARNING_RATE * n_error[0])\n",
    "    n_w[1] -= (x * LEARNING_RATE * n_error[1])\n",
    "    n2_inputs = np.array([1.0,n_y[0],n_y[1]]) # 1.0 is bias\n",
    "    n_w[2] -= (n2_inputs * LEARNING_RATE * n_error[2])"
   ]
  },
  {
   "cell_type": "code",
   "execution_count": null,
   "id": "2af8da05-defc-4511-add9-acebeff59a40",
   "metadata": {},
   "outputs": [],
   "source": [
    "# XOR function training loop w/ backprop\n",
    "all_correct = False\n",
    "while not all_correct: # train until converged\n",
    "    all_correct = True\n",
    "    np.random.shuffle(index_list) # randomize order\n",
    "    for i in index_list: # train on all examples\n",
    "        forward_pass(x_train[i])\n",
    "        backward_pass(y_train[i])\n",
    "        adjust_weights(x_train[i])\n",
    "        show_learning() # show updated weights\n",
    "    \n",
    "    for i in range(len(x_train)): # check if converged\n",
    "        forward_pass(x_train[i])\n",
    "        print('x1=','%4.1f' % x_train[i][1],', x2=',\n",
    "             '%4.1f' % x_train[i][2],', y=',\n",
    "             '%.4f' % n_y[2])\n",
    "        \n",
    "        if(((y_train[i] < 0.5) and (n_y[2] >= 0.5))\n",
    "              or ((y_train[i] >= 0.5) and (n_y[2] < 0.5))):\n",
    "            all_correct = False"
   ]
  },
  {
   "cell_type": "code",
   "execution_count": null,
   "id": "629b71d0-24a4-42c1-abb8-413ac3aa84a4",
   "metadata": {},
   "outputs": [],
   "source": []
  }
 ],
 "metadata": {
  "kernelspec": {
   "display_name": "Tensorflow-2.6.0",
   "language": "python",
   "name": "tensorflow-2.6.0"
  },
  "language_info": {
   "codemirror_mode": {
    "name": "ipython",
    "version": 3
   },
   "file_extension": ".py",
   "mimetype": "text/x-python",
   "name": "python",
   "nbconvert_exporter": "python",
   "pygments_lexer": "ipython3",
   "version": "3.9.7"
  }
 },
 "nbformat": 4,
 "nbformat_minor": 5
}
