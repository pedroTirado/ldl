{
 "cells": [
  {
   "cell_type": "code",
   "execution_count": 2,
   "id": "c9c08710-e5ec-4893-91cd-e96c0c8bf315",
   "metadata": {},
   "outputs": [
    {
     "name": "stdout",
     "output_type": "stream",
     "text": [
      "w0 =  0.20 , w1 = -0.60 , w2 =  0.25\n",
      "w0 =  0.30 , w1 = -0.50 , w2 =  0.15\n",
      "w0 =  0.40 , w1 = -0.40 , w2 =  0.05\n",
      "w0 =  0.30 , w1 = -0.50 , w2 = -0.05\n",
      "w0 =  0.40 , w1 = -0.40 , w2 = -0.15\n"
     ]
    },
    {
     "data": {
      "image/png": "[encoded data removed]",
      "text/plain": [
       "<Figure size 432x288 with 1 Axes>"
      ]
     },
     "metadata": {
      "needs_background": "light"
     },
     "output_type": "display_data"
    }
   ],
   "source": [
    "import matplotlib.pyplot as plt\n",
    "import random\n",
    "\n",
    "# define variables needed for plotting\n",
    "color_list = ['r-','m-','y-','c-','b-','g-']\n",
    "color_index = 0\n",
    "\n",
    "def show_learning(w):\n",
    "    global color_index\n",
    "    print('w0 =','%5.2f' % w[0],\n",
    "          ', w1 =','%5.2f' % w[1],\n",
    "          ', w2 =','%5.2f' % w[2])\n",
    "\n",
    "    if color_index == 0:\n",
    "        plt.plot([1.0],[1.0], 'b_', markersize=12)\n",
    "        plt.plot([-1.0,1.0,-1.0],[1.0,-1.0,-1.0],\n",
    "                  'r+',markersize=12)\n",
    "        plt.axis([-2,2,-2,2])\n",
    "        plt.xlabel('x1')\n",
    "        plt.ylabel('x2')\n",
    "    \n",
    "    x = [-2.0,2.0]\n",
    "    if abs(w[2]) < 1e-5:\n",
    "        y = [-w[1]/w[2]*(-2.0)+(-w[0]/(1e-5)),\n",
    "            -w[1]/(1e-5)*(2.0)+(-w[0]/(1e-5))]\n",
    "    else:\n",
    "        y = [-w[1]/w[2]*(-2.0)+(-w[0]/w[2]),\n",
    "            -w[1]/w[2]*(2.0)+(-w[0]/w[2])]\n",
    "    \n",
    "    plt.plot(x,y,color_list[color_index])\n",
    "    if color_index < (len(color_list)-1):\n",
    "        color_index += 1\n",
    "\n",
    "# define variables needed to control training process\n",
    "random.seed(7) # to make repeatable\n",
    "LEARNING_RATE = 0.1\n",
    "index_list = [0,1,2,3] # used to randomize order\n",
    "\n",
    "# define training examples\n",
    "x_train = [(1.0,-1.0,-1.0),(1.0,-1.0,1.0),\n",
    "           (1.0,1.0,-1.0),(1.0,1.0,1.0)] # inputs\n",
    "\n",
    "y_train = [1.0,1.0,1.0,-1.0] # output (ground truth)\n",
    "\n",
    "# define perceptron weights\n",
    "w = [0.2,-0.6,0.25] # initialize randomly\n",
    "\n",
    "# print init. weights\n",
    "show_learning(w)\n",
    "\n",
    "\"\"\"\n",
    "Perceptron learning function\n",
    "\"\"\"\n",
    "\n",
    "# first element in vector x must be 1\n",
    "# length of w & x must be n+1 for neuron w/ n inputs\n",
    "\n",
    "def compute_output(w,x):\n",
    "\n",
    "    z = 0.0\n",
    "    for i in range(len(w)):\n",
    "\n",
    "        z += x[i] * w[i] # compute sum of weighted inputs\n",
    "        \n",
    "\n",
    "    if z < 0: # apply sign function\n",
    "        return -1\n",
    "    else:\n",
    "        return 1\n",
    "\n",
    "\"\"\"\n",
    "perceptron training loop\n",
    "\"\"\"\n",
    "def main():\n",
    "    all_correct = False\n",
    "    while not all_correct:\n",
    "        all_correct = True\n",
    "        random.shuffle(index_list) # randomize order\n",
    "        for i in index_list:\n",
    "            x = x_train[i]\n",
    "            y = y_train[i]\n",
    "            p_out = compute_output(w, x) # perceptron function\n",
    "\n",
    "            if y != p_out: #update weights when wrong\n",
    "                for j in range(0, len(w)):\n",
    "                    w[j] += (y * LEARNING_RATE * x[j])\n",
    "                all_correct = False\n",
    "                show_learning(w) # show updated weights\n",
    "    plt.show()\n",
    "\n",
    "if __name__ == \"__main__\":\n",
    "    main()\n"
   ]
  },
  {
   "cell_type": "code",
   "execution_count": 5,
   "id": "1cb78b61-0e33-409b-bef1-9263d3218948",
   "metadata": {},
   "outputs": [
    {
     "name": "stdout",
     "output_type": "stream",
     "text": [
      "w0 =  0.40 , w1 = -0.40 , w2 = -0.15\n"
     ]
    },
    {
     "data": {
      "image/png": "[encoded data removed]",
      "text/plain": [
       "<Figure size 432x288 with 1 Axes>"
      ]
     },
     "metadata": {
      "needs_background": "light"
     },
     "output_type": "display_data"
    }
   ],
   "source": [
    "def show_learning(w):\n",
    "    global color_index\n",
    "    print('w0 =','%5.2f' % w[0],\n",
    "          ', w1 =','%5.2f' % w[1],\n",
    "          ', w2 =','%5.2f' % w[2])\n",
    "\n",
    "    if color_index == 0:\n",
    "        plt.plot([1.0],[1.0], 'b_', markersize=12)\n",
    "        plt.plot([-1.0,1.0,-1.0],[1.0,-1.0,-1.0],\n",
    "                  'r+',markersize=12)\n",
    "        plt.axis([-2,2,-2,2])\n",
    "        plt.xlabel('x1')\n",
    "        plt.ylabel('x2')\n",
    "    \n",
    "    x = [-2.0,2.0]\n",
    "    if abs(w[2]) < 1e-5:\n",
    "        y = [-w[1]/w[2]*(-2.0)+(-w[0]/(1e-5)),\n",
    "            -w[1]/(1e-5)*(2.0)+(-w[0]/(1e-5))]\n",
    "    else:\n",
    "        y = [-w[1]/w[2]*(-2.0)+(-w[0]/w[2]),\n",
    "            -w[1]/w[2]*(2.0)+(-w[0]/w[2])]\n",
    "    \n",
    "    plt.plot(x,y,color_list[color_index])\n",
    "    if color_index < (len(color_list)-1):\n",
    "        color_index += 1\n",
    "\n",
    "show_learning(w)"
   ]
  },
  {
   "cell_type": "code",
   "execution_count": 9,
   "id": "ab93614c-52fc-497e-b8f1-480f968f35a1",
   "metadata": {},
   "outputs": [
    {
     "data": {
      "text/plain": [
       "1"
      ]
     },
     "execution_count": 9,
     "metadata": {},
     "output_type": "execute_result"
    }
   ],
   "source": [
    "def compute_output(w,x):\n",
    "\n",
    "    z = 0.0\n",
    "    for i in range(len(w)):\n",
    "\n",
    "        z += x[i] * w[i] # compute sum of weighted inputs\n",
    "        \n",
    "\n",
    "    if z < 0: # apply sign function\n",
    "        return -1\n",
    "    else:\n",
    "        return 1\n",
    "\n",
    "for i in index_list:\n",
    "    x = x_train[i]\n",
    "compute_output(w,x)"
   ]
  },
  {
   "cell_type": "markdown",
   "id": "94fe64ec-af84-49a1-9a80-2a9b48f36e29",
   "metadata": {},
   "source": [
    "the above output does _not_ make sense"
   ]
  },
  {
   "cell_type": "markdown",
   "id": "fde048d9-2d6c-478a-a2b9-2bbb881f0253",
   "metadata": {},
   "source": [
    "# Q3: what is the purpose of the for loop in above cell?"
   ]
  },
  {
   "cell_type": "code",
   "execution_count": null,
   "id": "9954b5b9-19df-4755-a764-d5deda00e137",
   "metadata": {},
   "outputs": [],
   "source": []
  }
 ],
 "metadata": {
  "kernelspec": {
   "display_name": "Tensorflow-2.6.0",
   "language": "python",
   "name": "tensorflow-2.6.0"
  },
  "language_info": {
   "codemirror_mode": {
    "name": "ipython",
    "version": 3
   },
   "file_extension": ".py",
   "mimetype": "text/x-python",
   "name": "python",
   "nbconvert_exporter": "python",
   "pygments_lexer": "ipython3",
   "version": "3.9.7"
  }
 },
 "nbformat": 4,
 "nbformat_minor": 5
}
