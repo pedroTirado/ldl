{
 "cells": [
  {
   "cell_type": "code",
   "execution_count": null,
   "id": "a88d098c-9a26-4f6e-a245-38d1935937d1",
   "metadata": {},
   "outputs": [],
   "source": [
    "# TensorFlow V.2.6.0\n",
    "import idx2numpy\n"
   ]
  }
 ],
 "metadata": {
  "kernelspec": {
   "display_name": "Tensorflow-2.6.0",
   "language": "python",
   "name": "tensorflow-2.6.0"
  },
  "language_info": {
   "codemirror_mode": {
    "name": "ipython",
    "version": 3
   },
   "file_extension": ".py",
   "mimetype": "text/x-python",
   "name": "python",
   "nbconvert_exporter": "python",
   "pygments_lexer": "ipython3",
   "version": "3.9.7"
  }
 },
 "nbformat": 4,
 "nbformat_minor": 5
}
