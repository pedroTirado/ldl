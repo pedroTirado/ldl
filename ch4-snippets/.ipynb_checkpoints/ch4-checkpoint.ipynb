{
 "cells": [
  {
   "cell_type": "code",
   "execution_count": 3,
   "id": "6360db4a-ca0e-4fd2-896f-27654da16ef7",
   "metadata": {},
   "outputs": [
    {
     "name": "stdout",
     "output_type": "stream",
     "text": [
      "dimensions of train_images:  (60000, 28, 28)\n",
      "dimensions of train_labels:  (60000,)\n",
      "dimensions of test_images:  (10000, 28, 28)\n",
      "dimensions of test_labels:  (10000,)\n"
     ]
    }
   ],
   "source": [
    "# tensorflow v2.7.0\n",
    "import idx2numpy # must pip install idx2numpy in terminal first!\n",
    "\n",
    "\"\"\"\n",
    "    TRAINING data (used to train neural network)\n",
    "        each *IMAGE* ---> 3D array:\n",
    "            1st dimension ---> selects one of the training images\n",
    "            2nd & 3rd dim's ---> repr. 28x28 pixel vals (integers btwn 0 & 255)\n",
    "        each *LABEL* ---> 1D array:\n",
    "            each element corresp. to one of the images\n",
    "\"\"\"\n",
    "TRAIN_IMAGE_FILENAME = '../data/mnist/train-images-idx3-ubyte' # 60,000 training images: 28 pixel vals by 28 pixel vals\n",
    "TRAIN_LABEL_FILENAME = '../data/mnist/train-labels-idx1-ubyte' # 60,000 training image labels\n",
    "\n",
    "\"\"\"\n",
    "    TEST data (used to test/evaluate the network's learned behavior)\n",
    "\"\"\"\n",
    "TEST_IMAGE_FILENAME = '../data/mnist/t10k-images-idx3-ubyte' # 10,000 test images: 28 pixel vals by 28 pixel vals\n",
    "TEST_LABEL_FILENAME = '../data/mnist/t10k-labels-idx1-ubyte' # 10,000 test image labels\n",
    "\n",
    "# read files\n",
    "train_images = idx2numpy.convert_from_file(TRAIN_IMAGE_FILENAME) # network input (x)\n",
    "train_labels = idx2numpy.convert_from_file(TRAIN_LABEL_FILENAME) # DESIRED netw. output (y_truth)\n",
    "\n",
    "test_images = idx2numpy.convert_from_file(TEST_IMAGE_FILENAME) # netw. input (x)\n",
    "test_labels = idx2numpy.convert_from_file(TEST_LABEL_FILENAME) # DESIRED netw. output (y_truth)\n",
    "\n",
    "# print dimensions\n",
    "print('dimensions of train_images: ', train_images.shape)\n",
    "print('dimensions of train_labels: ', train_labels.shape)\n",
    "print('dimensions of test_images: ', test_images.shape)\n",
    "print('dimensions of test_labels: ', test_labels.shape)"
   ]
  },
  {
   "cell_type": "code",
   "execution_count": null,
   "id": "4e982bd6-f587-4be0-9d8b-a8abf8e2200e",
   "metadata": {},
   "outputs": [],
   "source": []
  }
 ],
 "metadata": {
  "kernelspec": {
   "display_name": "Tensorflow-2.7.0",
   "language": "python",
   "name": "tensorflow-2.7.0"
  },
  "language_info": {
   "codemirror_mode": {
    "name": "ipython",
    "version": 3
   },
   "file_extension": ".py",
   "mimetype": "text/x-python",
   "name": "python",
   "nbconvert_exporter": "python",
   "pygments_lexer": "ipython3",
   "version": "3.9.12"
  }
 },
 "nbformat": 4,
 "nbformat_minor": 5
}
